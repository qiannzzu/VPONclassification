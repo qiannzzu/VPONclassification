{
  "cells": [
    {
      "cell_type": "markdown",
      "metadata": {
        "id": "view-in-github",
        "colab_type": "text"
      },
      "source": [
        "<a href=\"https://colab.research.google.com/github/qiannzzu/VPONclassification/blob/Yia/textCNN.ipynb\" target=\"_parent\"><img src=\"https://colab.research.google.com/assets/colab-badge.svg\" alt=\"Open In Colab\"/></a>"
      ]
    },
    {
      "cell_type": "code",
      "execution_count": null,
      "metadata": {
        "colab": {
          "base_uri": "https://localhost:8080/"
        },
        "id": "xSdUwtx7XtSB",
        "outputId": "ac4e8fe8-8dd4-4679-c1f8-1df70edb3c3c"
      },
      "outputs": [
        {
          "output_type": "stream",
          "name": "stdout",
          "text": [
            "Drive already mounted at /content/drive; to attempt to forcibly remount, call drive.mount(\"/content/drive\", force_remount=True).\n"
          ]
        }
      ],
      "source": [
        "from google.colab import drive\n",
        "drive.mount('/content/drive') "
      ]
    },
    {
      "cell_type": "code",
      "execution_count": null,
      "metadata": {
        "colab": {
          "base_uri": "https://localhost:8080/"
        },
        "id": "byYw5i5aoZew",
        "outputId": "419172b8-8386-49f4-863e-09cc0b362e3b"
      },
      "outputs": [
        {
          "output_type": "stream",
          "name": "stdout",
          "text": [
            "雅紅 珠寶 天然 三彩 翡翠 手鐲 185 柳綠 花 紅 雅紅珠寶\n",
            "(175223, 1)\n"
          ]
        }
      ],
      "source": [
        "import pandas as pd\n",
        "\n",
        "contents = pd.read_csv('/content/drive/MyDrive/input/ckipTagger.txt', sep = '\\n', header=None).to_numpy().astype(str)\n",
        "labels = pd.read_csv('/content/drive/MyDrive/input/labels.txt', sep = '\\n', header=None).to_numpy().astype(str)\n",
        "\n",
        "print(contents.ravel()[0])\n",
        "print(labels.shape)"
      ]
    },
    {
      "cell_type": "code",
      "execution_count": null,
      "metadata": {
        "colab": {
          "base_uri": "https://localhost:8080/"
        },
        "id": "pocH6rnVqESI",
        "outputId": "a84e36d9-4578-4f51-aae6-bd9ed4260bec"
      },
      "outputs": [
        {
          "output_type": "stream",
          "name": "stdout",
          "text": [
            "[[     0      0      0      0      0      0      0      0      0      0\n",
            "       0   1935     37    592    154    188    214     88   7494   6582\n",
            "      37     60  63835   3126   3067   5214   3244  31200    106   1935]\n",
            " [     0      0      0      0      0      0      0      0      0      0\n",
            "       0      0      0      0      0      0      0      0    585    437\n",
            "     572  63135  96473  12028   2510  96474  96475  14872  26152    586]\n",
            " [     0      0      0      0      0      0      0      0      0      0\n",
            "       0      0      0      0      0      0      0      0    699    982\n",
            "   63232  47854  18700     16   3331  31594    129    186    699    982]\n",
            " [     0      0      0      0      0      0      0      0      0      0\n",
            "       0      0      0      0      0      0      0  12576     97   1007\n",
            "    8955    651  15518     72   1237    941    121  15552  40697  12576]\n",
            " [     0      0      0      0      0      0      0      0      0      0\n",
            "       0      0      0      0      0      0      0      0      0      0\n",
            "       0      0   3020   2025 132105   1613    405   4917 132106   6323]]\n"
          ]
        }
      ],
      "source": [
        "from sklearn.model_selection import train_test_split\n",
        "from keras.preprocessing.text import Tokenizer\n",
        "from keras.preprocessing.sequence import pad_sequences\n",
        "\n",
        "tokenizer = Tokenizer()\n",
        "tokenizer.fit_on_texts(contents.ravel())\n",
        "vocab = tokenizer.word_index\n",
        "\n",
        "x_train, x_test, y_train, y_test = train_test_split(contents.ravel(), labels, random_state=0, test_size=0.1)\n",
        "x_train_word_ids = tokenizer.texts_to_sequences(x_train)\n",
        "x_test_word_ids = tokenizer.texts_to_sequences(x_test)\n",
        "x_train_padded_seqs = pad_sequences(x_train_word_ids, maxlen = 30)\n",
        "x_test_padded_seqs = pad_sequences(x_test_word_ids, maxlen = 30)\n",
        "\n",
        "print(x_train_padded_seqs[:5])"
      ]
    },
    {
      "cell_type": "code",
      "source": [
        "print(x_train[:10])\n",
        "\n",
        "print(x_train_word_ids[:10])\n",
        "\n",
        "print(y_train[:10])"
      ],
      "metadata": {
        "colab": {
          "base_uri": "https://localhost:8080/"
        },
        "id": "bVy7nou7zMRg",
        "outputId": "ee71086f-6da0-4f13-e061-d1e3e47ab3e6"
      },
      "execution_count": null,
      "outputs": [
        {
          "output_type": "stream",
          "name": "stdout",
          "text": [
            "['雅紅 珠寶 天然 三彩 翡翠 手鐲 185 柳綠 花 紅 雅紅珠寶'\n",
            " 'DOLLY 14K 金 無 燒孔 賽石 34 克拉 鑽石 項鍊 DOLLY'\n",
            " 'KingStarGIA 無 螢光 雋 永一 克拉 18 K 金鑽石 戒指 最 白 Dcolor3Excellent 極 優 八心 八 箭 King Star'\n",
            " 'King Star GIA 風韻 一 克拉 鑽石 戒指 豪華 鉑金台 King Star'\n",
            " 'KingStarGIA 16 克拉 最 白 Dcolor3 Excellent 極 優滿 鑽 鉑金 鑽石 戒指 三 克拉 視覺 效果 King Star'\n",
            " 'JyunPin 駿品 裝修 嚴選 系統 家 具 套裝 連 工帶 料 含 三 機 烤箱 微波爐 水槽 和 龍頭 防火 壁板 櫥 下 過濾器 Jyun Pin 駿品裝修'\n",
            " 'JyunPin 駿品 裝修 嚴選 系統 家 具 套裝 連 工帶 料 含 三 機 烤箱 微波爐 水槽 和 龍頭 防火 壁板 櫥 下 過濾器 Jyun Pin 駿品裝修'\n",
            " 'SONY 索尼 BRAVIA85型 8KFullArrayLED Google TV 顯示器 XRM85 Z9J SONY 索尼'\n",
            " 'DOLLY 18K 金緬甸木 拿 玻璃種 翡翠 鑽石 項鍊 DOLLY'\n",
            " 'KingStar 時 來 運轉 一 克 拉 鑽石 18 K金 戒指 D 頂級 顏色 King Star']\n",
            "[[88901, 2181, 90, 25655, 3904, 8469, 4189, 60152, 831, 184, 88902], [2296, 18660, 534, 41, 88903, 88904, 1182, 644, 168, 201, 2296], [15434, 41, 3631, 88905, 88906, 644, 82, 79, 2307, 660, 132, 120, 7043, 177, 4282, 1840, 435, 1711, 638, 1426], [638, 1426, 1070, 88907, 19, 644, 168, 660, 1667, 8638, 638, 1426], [15434, 107, 644, 132, 120, 28135, 15435, 177, 88908, 550, 1789, 168, 660, 22, 644, 3905, 4083, 638, 1426], [6360, 5379, 4844, 374, 939, 231, 419, 579, 2202, 60153, 14280, 73, 22, 1427, 2260, 3291, 3025, 207, 1319, 5457, 30891, 25656, 384, 3292, 5529, 3393, 5530], [6360, 5379, 4844, 374, 939, 231, 419, 579, 2202, 60153, 14280, 73, 22, 1427, 2260, 3291, 3025, 207, 1319, 5457, 30891, 25656, 384, 3292, 5529, 3393, 5530], [281, 341, 88909, 60154, 2308, 2715, 1199, 88910, 60155, 281, 341], [2296, 5776, 88911, 1071, 88912, 3904, 168, 201, 2296], [3787, 1218, 594, 10302, 19, 2849, 3943, 168, 82, 972, 660, 181, 194, 709, 638, 1426]]\n",
            "[['25']\n",
            " ['25']\n",
            " ['25']\n",
            " ['25']\n",
            " ['25']\n",
            " ['2']\n",
            " ['2']\n",
            " ['10']\n",
            " ['25']\n",
            " ['25']]\n"
          ]
        }
      ]
    },
    {
      "cell_type": "code",
      "execution_count": null,
      "metadata": {
        "id": "2WwN1culkMQL"
      },
      "outputs": [],
      "source": [
        "import gensim\n",
        "from gensim.test.utils import common_texts\n",
        "from gensim.models import word2vec\n",
        "import numpy as np\n",
        "\n",
        "model = gensim.models.KeyedVectors.load_word2vec_format('/content/drive/MyDrive/input/y_360W_cbow_2D_300dim_2020v1.bin', unicode_errors='ignore', binary=True)"
      ]
    },
    {
      "cell_type": "code",
      "execution_count": null,
      "metadata": {
        "id": "l9ai6K23o4yq"
      },
      "outputs": [],
      "source": [
        "embedding_matrix = np.zeros((len(vocab)+1, 300))\n",
        "for word, i in vocab.items():\n",
        "  try:\n",
        "    embedding_vector = model[str(word)]\n",
        "    embedding_matrix[i] = embedding_vector\n",
        "  except KeyError:\n",
        "    continue"
      ]
    },
    {
      "cell_type": "code",
      "execution_count": null,
      "metadata": {
        "colab": {
          "base_uri": "https://localhost:8080/"
        },
        "id": "2RbdEHa_rYSx",
        "outputId": "58516d33-abe4-4d94-ae0f-dcb8ebc2defc"
      },
      "outputs": [
        {
          "output_type": "stream",
          "name": "stderr",
          "text": [
            "/usr/local/lib/python3.7/dist-packages/ipykernel_launcher.py:12: DeprecationWarning: Call to deprecated `__getitem__` (Method will be removed in 4.0.0, use self.wv.__getitem__() instead).\n",
            "  if sys.path[0] == '':\n"
          ]
        }
      ],
      "source": [
        "import gensim\n",
        "from gensim.test.utils import common_texts\n",
        "from gensim.models import word2vec\n",
        "import numpy as np\n",
        "\n",
        "sentences = word2vec.LineSentence(\"/content/drive/MyDrive/input/ckipTagger.txt\")\n",
        "w2v_model = word2vec.Word2Vec(sentences, size=100)\n",
        "\n",
        "embedding_matrix = np.zeros((len(vocab)+1, 100))\n",
        "for word, i in vocab.items():\n",
        "  try:\n",
        "    embedding_vector = w2v_model[str(word)]\n",
        "    embedding_matrix[i] = embedding_vector\n",
        "  except KeyError:\n",
        "    continue"
      ]
    },
    {
      "cell_type": "code",
      "execution_count": null,
      "metadata": {
        "id": "wEH36MChu9pe"
      },
      "outputs": [],
      "source": [
        "from tensorflow.python.framework.ops import convert_to_tensor_v2_with_dispatch\n",
        "from sklearn.model_selection import train_test_split\n",
        "import pandas as pd\n",
        "import jieba\n",
        "from keras.preprocessing.text import Tokenizer\n",
        "from keras.preprocessing.sequence import pad_sequences\n",
        "from keras.models import Sequential,Model\n",
        "from keras.layers import Input, Dense, Activation, Conv1D,MaxPooling1D, concatenate,Flatten,Embedding,Dropout\n",
        "from keras.initializers import Constant\n",
        "import keras\n",
        "from keras.utils import np_utils\n",
        "from sklearn.metrics import accuracy_score\n",
        "from sklearn.metrics import classification_report\n",
        "from keras.callbacks import ModelCheckpoint\n",
        "\n",
        "#textCNN model\n",
        "def textCNN_model(embedding_matrix):\n",
        "    #模型結構: 詞嵌入(word2vec)-卷積池化*3-拼接-全連接-dropout-全連接\n",
        "    keras.backend.clear_session()\n",
        "    main_input = Input(shape=(30,), dtype='float64')\n",
        "    embedder = Embedding(len(embedding_matrix), 300, input_length=30, weights=[embedding_matrix], trainable=True)\n",
        "    embed = embedder(main_input)\n",
        "    cnn1 = Conv1D(256, 5, padding='same', strides=1, activation='sigmoid')(embed)\n",
        "    cnn1 = MaxPooling1D(pool_size=5)(cnn1)\n",
        "    cnn2 = Conv1D(256, 5, padding='same', strides=1, activation='sigmoid')(embed)\n",
        "    cnn2 = MaxPooling1D(pool_size=5)(cnn2)\n",
        "    cnn3 = Conv1D(256, 5, padding='same', strides=1, activation='sigmoid')(embed)\n",
        "    cnn3 = MaxPooling1D(pool_size=5)(cnn3)\n",
        "    #合併三個模型的輸出量\n",
        "    cnn = concatenate([cnn1, cnn2, cnn3], axis=-1)\n",
        "    flat = Flatten()(cnn)\n",
        "    drop = Dropout(0.3)(flat)\n",
        "    main_output = Dense(33, activation='sigmoid')(drop)\n",
        "    textCNN = Model(inputs=main_input, outputs=main_output)\n",
        "    textCNN.compile(loss='categorical_crossentropy', optimizer='adam', metrics=['accuracy'])\n",
        "    \n",
        "    return textCNN"
      ]
    },
    {
      "cell_type": "code",
      "execution_count": null,
      "metadata": {
        "colab": {
          "base_uri": "https://localhost:8080/"
        },
        "id": "RVVv5pBUxw-Y",
        "outputId": "20754458-5fea-4df8-c734-a79bc0bef2a1"
      },
      "outputs": [
        {
          "output_type": "stream",
          "name": "stdout",
          "text": [
            "(157700, 30)\n",
            "(157700, 1)\n",
            "(17523, 30)\n",
            "(17523, 1)\n"
          ]
        }
      ],
      "source": [
        "import numpy as np\n",
        "\n",
        "xtrain_np = np.array(x_train_padded_seqs)\n",
        "ytrain_np = np.array(y_train)\n",
        "xtest_np = np.array(x_test_padded_seqs)\n",
        "ytest_np = np.array(y_test)\n",
        "\n",
        "print(xtrain_np.shape)\n",
        "print(ytrain_np.shape)\n",
        "print(xtest_np.shape)\n",
        "print(ytest_np.shape)"
      ]
    },
    {
      "cell_type": "code",
      "source": [
        "model_v1 = textCNN_model(embedding_matrix) "
      ],
      "metadata": {
        "id": "A__VLTu1QZUb"
      },
      "execution_count": null,
      "outputs": []
    },
    {
      "cell_type": "code",
      "execution_count": null,
      "metadata": {
        "id": "VcjXDFrI__Xm",
        "colab": {
          "base_uri": "https://localhost:8080/"
        },
        "outputId": "2a70f8e0-587c-432a-bb6d-7ec67426e49e"
      },
      "outputs": [
        {
          "output_type": "stream",
          "name": "stdout",
          "text": [
            "99/99 [==============================] - 16s 158ms/step - loss: 0.0311 - accuracy: 0.9950\n",
            "準確率 0.9218170404611082\n",
            "平均f1-score:  0.9207138145838084\n",
            "Model: \"model\"\n",
            "__________________________________________________________________________________________________\n",
            " Layer (type)                   Output Shape         Param #     Connected to                     \n",
            "==================================================================================================\n",
            " input_1 (InputLayer)           [(None, 30)]         0           []                               \n",
            "                                                                                                  \n",
            " embedding (Embedding)          (None, 30, 300)      57009000    ['input_1[0][0]']                \n",
            "                                                                                                  \n",
            " conv1d (Conv1D)                (None, 30, 256)      384256      ['embedding[0][0]']              \n",
            "                                                                                                  \n",
            " conv1d_1 (Conv1D)              (None, 30, 256)      384256      ['embedding[0][0]']              \n",
            "                                                                                                  \n",
            " conv1d_2 (Conv1D)              (None, 30, 256)      384256      ['embedding[0][0]']              \n",
            "                                                                                                  \n",
            " max_pooling1d (MaxPooling1D)   (None, 6, 256)       0           ['conv1d[0][0]']                 \n",
            "                                                                                                  \n",
            " max_pooling1d_1 (MaxPooling1D)  (None, 6, 256)      0           ['conv1d_1[0][0]']               \n",
            "                                                                                                  \n",
            " max_pooling1d_2 (MaxPooling1D)  (None, 6, 256)      0           ['conv1d_2[0][0]']               \n",
            "                                                                                                  \n",
            " concatenate (Concatenate)      (None, 6, 768)       0           ['max_pooling1d[0][0]',          \n",
            "                                                                  'max_pooling1d_1[0][0]',        \n",
            "                                                                  'max_pooling1d_2[0][0]']        \n",
            "                                                                                                  \n",
            " flatten (Flatten)              (None, 4608)         0           ['concatenate[0][0]']            \n",
            "                                                                                                  \n",
            " dropout (Dropout)              (None, 4608)         0           ['flatten[0][0]']                \n",
            "                                                                                                  \n",
            " dense (Dense)                  (None, 33)           152097      ['dropout[0][0]']                \n",
            "                                                                                                  \n",
            "==================================================================================================\n",
            "Total params: 58,313,865\n",
            "Trainable params: 58,313,865\n",
            "Non-trainable params: 0\n",
            "__________________________________________________________________________________________________\n"
          ]
        }
      ],
      "source": [
        "import sklearn.metrics as metrics\n",
        " \n",
        "one_hot_labels = keras.utils.np_utils.to_categorical(ytrain_np, num_classes=33)\n",
        "history = model_v1.fit(xtrain_np, one_hot_labels, batch_size = 1600, epochs = 1, shuffle = 1) \n",
        "result = model_v1.predict(xtest_np) #預測樣本屬於每個類別的概率\n",
        "result_labels = np.argmax(result, axis=1) #取得最大概率對應的label\n",
        "y_predict = list(map(str, result_labels))\n",
        "print('準確率', metrics.accuracy_score(ytest_np, y_predict))\n",
        "print('平均f1-score: ',metrics.f1_score(ytest_np, y_predict, average='weighted'))\n",
        "\n",
        "model_v1.summary() "
      ]
    },
    {
      "cell_type": "code",
      "execution_count": null,
      "metadata": {
        "id": "CRIk4Gv_UQ6q"
      },
      "outputs": [],
      "source": [
        "model_v1.save('/content/drive/MyDrive/input/textCNN_model_300d_92.13%_256-5-5-1_sigmoid.h5')"
      ]
    },
    {
      "cell_type": "code",
      "source": [
        "from keras.models import load_model\n",
        "\n",
        "model_v1 = load_model('/content/drive/MyDrive/input/textCNN_model_300d_89.61%_256-5-5-1_sigmoid.h5')"
      ],
      "metadata": {
        "id": "RIZB2h5vqJkd"
      },
      "execution_count": null,
      "outputs": []
    },
    {
      "cell_type": "code",
      "source": [
        "one_hot_labels = keras.utils.np_utils.to_categorical(ytest_np, num_classes=33)\n",
        "score = model_v1.evaluate(xtest_np, one_hot_labels, verbose=0, batch_size=128)\n",
        "\n",
        "print('Test loss:', score[0])\n",
        "print('Test accuracy:', score[1])"
      ],
      "metadata": {
        "colab": {
          "base_uri": "https://localhost:8080/"
        },
        "id": "fNOQj7NXwWJm",
        "outputId": "52ecf174-9738-4bb7-b361-96529c39b5c6"
      },
      "execution_count": null,
      "outputs": [
        {
          "output_type": "stream",
          "name": "stdout",
          "text": [
            "Test loss: 0.13066589832305908\n",
            "Test accuracy: 0.9710095524787903\n"
          ]
        }
      ]
    },
    {
      "cell_type": "code",
      "source": [
        "import sklearn.metrics as metrics\n",
        "\n",
        "result = model_v1.predict(xtest_np) #預測樣本屬於每個類別的概率\n",
        "\n",
        "result_labels = np.argmax(result, axis=1) #取得最大概率對應的label\n",
        "y_predict = list(map(str, result_labels))\n",
        "\n",
        "total_num = np.zeros((len(y_predict), 1))\n",
        "level_1_num = np.zeros((len(y_predict), 1))\n",
        "level_1_pred = np.zeros((len(y_predict), 1))\n",
        "\n",
        "for i in range(len(x_train)):\n",
        "  total_num[int(ytrain_np[i])] += 1\n",
        "\n",
        "for i in range(len(y_predict)) :\n",
        "  level_1_num[int(ytest_np[i])] += 1\n",
        "  if ytest_np[i] != y_predict[i] :\n",
        "    level_1_pred[int(ytest_np[i])] += 1\n",
        "print('準確率', accuracy_score(ytest_np, y_predict))\n",
        "print('平均f1-score: ',metrics.f1_score(ytest_np, y_predict, average='weighted'))\n",
        "for i in range(33) :\n",
        "  print('label', i, 'total_num : ', total_num[i],  ' , test_num : ', level_1_num[i], ' , pred_err_num :', level_1_pred[i], ', test% : ', level_1_num[i]/total_num[i] , ' , 正確率 : ', 1 - level_1_pred[i]/level_1_num[i] ) "
      ],
      "metadata": {
        "colab": {
          "base_uri": "https://localhost:8080/"
        },
        "id": "zZggbKdhsPrq",
        "outputId": "fc36f307-7f53-4296-f0c8-a68d97848cce"
      },
      "execution_count": null,
      "outputs": [
        {
          "output_type": "stream",
          "name": "stdout",
          "text": [
            "準確率 0.9218170404611082\n",
            "平均f1-score:  0.9207138145838084\n",
            "label 0 total_num :  [9.]  , test_num :  [1.]  , pred_err_num : [1.] , test% :  [0.11111111]  , 正確率 :  [0.]\n",
            "label 1 total_num :  [4632.]  , test_num :  [493.]  , pred_err_num : [58.] , test% :  [0.10643351]  , 正確率 :  [0.88235294]\n",
            "label 2 total_num :  [6275.]  , test_num :  [696.]  , pred_err_num : [58.] , test% :  [0.11091633]  , 正確率 :  [0.91666667]\n",
            "label 3 total_num :  [2031.]  , test_num :  [229.]  , pred_err_num : [46.] , test% :  [0.11275234]  , 正確率 :  [0.79912664]\n",
            "label 4 total_num :  [10821.]  , test_num :  [1237.]  , pred_err_num : [53.] , test% :  [0.11431476]  , 正確率 :  [0.95715441]\n",
            "label 5 total_num :  [6736.]  , test_num :  [727.]  , pred_err_num : [46.] , test% :  [0.10792755]  , 正確率 :  [0.93672627]\n",
            "label 6 total_num :  [3246.]  , test_num :  [348.]  , pred_err_num : [72.] , test% :  [0.10720887]  , 正確率 :  [0.79310345]\n",
            "label 7 total_num :  [2276.]  , test_num :  [254.]  , pred_err_num : [4.] , test% :  [0.1115993]  , 正確率 :  [0.98425197]\n",
            "label 8 total_num :  [25855.]  , test_num :  [2847.]  , pred_err_num : [21.] , test% :  [0.1101141]  , 正確率 :  [0.99262381]\n",
            "label 9 total_num :  [1838.]  , test_num :  [197.]  , pred_err_num : [12.] , test% :  [0.10718172]  , 正確率 :  [0.93908629]\n",
            "label 10 total_num :  [7462.]  , test_num :  [779.]  , pred_err_num : [59.] , test% :  [0.1043956]  , 正確率 :  [0.92426187]\n",
            "label 11 total_num :  [4463.]  , test_num :  [469.]  , pred_err_num : [30.] , test% :  [0.10508626]  , 正確率 :  [0.93603412]\n",
            "label 12 total_num :  [5622.]  , test_num :  [675.]  , pred_err_num : [68.] , test% :  [0.12006403]  , 正確率 :  [0.89925926]\n",
            "label 13 total_num :  [2336.]  , test_num :  [267.]  , pred_err_num : [52.] , test% :  [0.11429795]  , 正確率 :  [0.80524345]\n",
            "label 14 total_num :  [7582.]  , test_num :  [839.]  , pred_err_num : [51.] , test% :  [0.11065682]  , 正確率 :  [0.93921335]\n",
            "label 15 total_num :  [2632.]  , test_num :  [296.]  , pred_err_num : [42.] , test% :  [0.11246201]  , 正確率 :  [0.85810811]\n",
            "label 16 total_num :  [11.]  , test_num :  [1.]  , pred_err_num : [1.] , test% :  [0.09090909]  , 正確率 :  [0.]\n",
            "label 17 total_num :  [1954.]  , test_num :  [229.]  , pred_err_num : [39.] , test% :  [0.1171955]  , 正確率 :  [0.82969432]\n",
            "label 18 total_num :  [7255.]  , test_num :  [791.]  , pred_err_num : [76.] , test% :  [0.10902826]  , 正確率 :  [0.90391909]\n",
            "label 19 total_num :  [8711.]  , test_num :  [968.]  , pred_err_num : [132.] , test% :  [0.11112387]  , 正確率 :  [0.86363636]\n",
            "label 20 total_num :  [2197.]  , test_num :  [247.]  , pred_err_num : [47.] , test% :  [0.11242604]  , 正確率 :  [0.8097166]\n",
            "label 21 total_num :  [66.]  , test_num :  [3.]  , pred_err_num : [3.] , test% :  [0.04545455]  , 正確率 :  [0.]\n",
            "label 22 total_num :  [2717.]  , test_num :  [332.]  , pred_err_num : [24.] , test% :  [0.1221936]  , 正確率 :  [0.92771084]\n",
            "label 23 total_num :  [272.]  , test_num :  [35.]  , pred_err_num : [30.] , test% :  [0.12867647]  , 正確率 :  [0.14285714]\n",
            "label 24 total_num :  [608.]  , test_num :  [63.]  , pred_err_num : [4.] , test% :  [0.10361842]  , 正確率 :  [0.93650794]\n",
            "label 25 total_num :  [7810.]  , test_num :  [848.]  , pred_err_num : [18.] , test% :  [0.10857875]  , 正確率 :  [0.97877358]\n",
            "label 26 total_num :  [217.]  , test_num :  [28.]  , pred_err_num : [20.] , test% :  [0.12903226]  , 正確率 :  [0.28571429]\n",
            "label 27 total_num :  [2524.]  , test_num :  [304.]  , pred_err_num : [46.] , test% :  [0.12044374]  , 正確率 :  [0.84868421]\n",
            "label 28 total_num :  [2256.]  , test_num :  [237.]  , pred_err_num : [45.] , test% :  [0.10505319]  , 正確率 :  [0.81012658]\n",
            "label 29 total_num :  [7578.]  , test_num :  [822.]  , pred_err_num : [37.] , test% :  [0.10847189]  , 正確率 :  [0.95498783]\n",
            "label 30 total_num :  [8461.]  , test_num :  [972.]  , pred_err_num : [86.] , test% :  [0.11488004]  , 正確率 :  [0.91152263]\n",
            "label 31 total_num :  [3920.]  , test_num :  [465.]  , pred_err_num : [38.] , test% :  [0.11862245]  , 正確率 :  [0.91827957]\n",
            "label 32 total_num :  [7327.]  , test_num :  [824.]  , pred_err_num : [51.] , test% :  [0.11246076]  , 正確率 :  [0.9381068]\n"
          ]
        }
      ]
    },
    {
      "cell_type": "code",
      "source": [
        "model_v1.summary()"
      ],
      "metadata": {
        "colab": {
          "base_uri": "https://localhost:8080/"
        },
        "id": "1smus-6Fy_0X",
        "outputId": "cb11da20-7201-4cf2-f128-a45738ec1070"
      },
      "execution_count": null,
      "outputs": [
        {
          "output_type": "stream",
          "name": "stdout",
          "text": [
            "Model: \"model\"\n",
            "__________________________________________________________________________________________________\n",
            " Layer (type)                   Output Shape         Param #     Connected to                     \n",
            "==================================================================================================\n",
            " input_1 (InputLayer)           [(None, 30)]         0           []                               \n",
            "                                                                                                  \n",
            " embedding (Embedding)          (None, 30, 200)      38006000    ['input_1[0][0]']                \n",
            "                                                                                                  \n",
            " conv1d (Conv1D)                (None, 30, 256)      256256      ['embedding[0][0]']              \n",
            "                                                                                                  \n",
            " conv1d_1 (Conv1D)              (None, 30, 256)      256256      ['embedding[0][0]']              \n",
            "                                                                                                  \n",
            " conv1d_2 (Conv1D)              (None, 30, 256)      256256      ['embedding[0][0]']              \n",
            "                                                                                                  \n",
            " max_pooling1d (MaxPooling1D)   (None, 6, 256)       0           ['conv1d[0][0]']                 \n",
            "                                                                                                  \n",
            " max_pooling1d_1 (MaxPooling1D)  (None, 6, 256)      0           ['conv1d_1[0][0]']               \n",
            "                                                                                                  \n",
            " max_pooling1d_2 (MaxPooling1D)  (None, 6, 256)      0           ['conv1d_2[0][0]']               \n",
            "                                                                                                  \n",
            " concatenate (Concatenate)      (None, 6, 768)       0           ['max_pooling1d[0][0]',          \n",
            "                                                                  'max_pooling1d_1[0][0]',        \n",
            "                                                                  'max_pooling1d_2[0][0]']        \n",
            "                                                                                                  \n",
            " flatten (Flatten)              (None, 4608)         0           ['concatenate[0][0]']            \n",
            "                                                                                                  \n",
            " dropout (Dropout)              (None, 4608)         0           ['flatten[0][0]']                \n",
            "                                                                                                  \n",
            " dense (Dense)                  (None, 33)           152097      ['dropout[0][0]']                \n",
            "                                                                                                  \n",
            "==================================================================================================\n",
            "Total params: 38,926,865\n",
            "Trainable params: 920,865\n",
            "Non-trainable params: 38,006,000\n",
            "__________________________________________________________________________________________________\n"
          ]
        }
      ]
    },
    {
      "cell_type": "code",
      "execution_count": null,
      "metadata": {
        "colab": {
          "base_uri": "https://localhost:8080/",
          "height": 295
        },
        "id": "_qy3t5ntwp96",
        "outputId": "29a7b2fc-8faa-45a4-d510-ad2bd41578f0"
      },
      "outputs": [
        {
          "output_type": "display_data",
          "data": {
            "text/plain": [
              "<Figure size 432x288 with 1 Axes>"
            ],
            "image/png": "[encoded data removed]"
          },
          "metadata": {
            "needs_background": "light"
          }
        }
      ],
      "source": [
        "import matplotlib.pyplot as plt\n",
        "\n",
        "plt.plot(history.history['accuracy'])\n",
        "plt.plot(history.history['val_accuracy'])\n",
        "plt.title('model accuracy')\n",
        "plt.ylabel('accuracy')\n",
        "plt.xlabel('epoch')\n",
        "plt.legend(['train', 'test'], loc='upper left') \n",
        "plt.show()\n",
        "# summarize history for loss plt.plot(history.history['loss']) plt.plot(history.history['val_loss']) plt.title('model loss')"
      ]
    },
    {
      "cell_type": "markdown",
      "source": [
        "XGBoost"
      ],
      "metadata": {
        "id": "NOedlxbe6-hR"
      }
    },
    {
      "cell_type": "code",
      "source": [
        "import xgboost as xgb\n",
        "\n"
      ],
      "metadata": {
        "id": "XMtguCHv697Q"
      },
      "execution_count": null,
      "outputs": []
    }
  ],
  "metadata": {
    "colab": {
      "collapsed_sections": [],
      "name": "textCNN.ipynb",
      "provenance": [],
      "authorship_tag": "ABX9TyOFqIEWm9QnI5rlzlEU3kD7",
      "include_colab_link": true
    },
    "kernelspec": {
      "display_name": "Python 3",
      "name": "python3"
    },
    "language_info": {
      "name": "python"
    },
    "accelerator": "GPU"
  },
  "nbformat": 4,
  "nbformat_minor": 0
}